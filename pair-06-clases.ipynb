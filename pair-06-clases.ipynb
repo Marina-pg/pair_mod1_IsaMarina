{
 "cells": [
  {
   "cell_type": "markdown",
   "metadata": {},
   "source": [
    "La clase Empleadospermite gestionar información relacionada con los empleados de una empresa, con las siguientes características:\n",
    "\n",
    "-Métododescripcion : Proporciona una descripción del empleado, incluyendo su nombre, posición en la empresa y la cantidad de días de vacaciones que le quedan para el año actual. Los pasos para resolver el ejercicio del método descripcionson:\n",
    "\n",
    "Utilizar F-Strings : Utiliza f-strings para construir la descripción del empleado de manera legible y eficiente.\n",
    "\n",
    "Especificar los Atributos a Incluir : Determina cuáles de los atributos del empleado deben incluirse en la descripción. Los atributos necesarios son nombre, posicion, año, y vacaciones.\n",
    "\n",
    "Concatenar los Atributos : Usar f-strings para concatenar los atributos seleccionados y crear una descripción coherente."
   ]
  },
  {
   "cell_type": "code",
   "execution_count": null,
   "metadata": {},
   "outputs": [
    {
     "ename": "SyntaxError",
     "evalue": "incomplete input (2952518161.py, line 23)",
     "output_type": "error",
     "traceback": [
      "\u001b[1;36m  Cell \u001b[1;32mIn[15], line 23\u001b[1;36m\u001b[0m\n\u001b[1;33m    \u001b[0m\n\u001b[1;37m    ^\u001b[0m\n\u001b[1;31mSyntaxError\u001b[0m\u001b[1;31m:\u001b[0m incomplete input\n"
     ]
    }
   ],
   "source": [
    "class Empleados:\n",
    "\n",
    "    def __init__(self, nombre, apellidos, edad, posicion, año, herramientas):\n",
    "        self.nombre = nombre\n",
    "        self.apellidos = apellidos\n",
    "        self.edad = edad\n",
    "        self.posicion = posicion\n",
    "        self.año = año\n",
    "        self.vacaciones = 30\n",
    "        self.herramientas = [herramientas]\n",
    "\n",
    "    def descripcion(self):\n",
    "        return f'el nombre del empleado es {self.nombre}, su puesto es {self.posicion}, le quedan {self.vacaciones} días de vacas, entró a la empresa en el año {self.año\n",
    "                                                                                                                                                   }'\n",
    "    \n",
    "    def cambiando_posicion(self):\n",
    "        return f'el empleado tiene {self.herramientas}'\n",
    "\n",
    "        if 'Python' in self.herramientas:\n",
    "            \n",
    "            \n",
    "\n",
    "\n",
    "\n"
   ]
  },
  {
   "cell_type": "code",
   "execution_count": 12,
   "metadata": {},
   "outputs": [],
   "source": [
    "empleado1 = Empleados('Antonia', 'García', 36, 'gerente', 2015, 'paquete office' )"
   ]
  },
  {
   "cell_type": "code",
   "execution_count": 4,
   "metadata": {},
   "outputs": [
    {
     "data": {
      "text/plain": [
       "{'nombre': 'Antonia',\n",
       " 'apellidos': 'García',\n",
       " 'edad': 36,\n",
       " 'posicion': 'gerente',\n",
       " 'año': 2015,\n",
       " 'vacaciones': 30,\n",
       " 'herramientas': 'paquete office'}"
      ]
     },
     "execution_count": 4,
     "metadata": {},
     "output_type": "execute_result"
    }
   ],
   "source": [
    "empleado1.__dict__"
   ]
  },
  {
   "cell_type": "code",
   "execution_count": 13,
   "metadata": {},
   "outputs": [
    {
     "data": {
      "text/plain": [
       "'el nombre del empleado es Antonia, su puesto es gerente, le quedan 30 días de vacas, entró a la empresa en el año 2015'"
      ]
     },
     "execution_count": 13,
     "metadata": {},
     "output_type": "execute_result"
    }
   ],
   "source": [
    "empleado1.descripcion()"
   ]
  }
 ],
 "metadata": {
  "kernelspec": {
   "display_name": "base",
   "language": "python",
   "name": "python3"
  },
  "language_info": {
   "codemirror_mode": {
    "name": "ipython",
    "version": 3
   },
   "file_extension": ".py",
   "mimetype": "text/x-python",
   "name": "python",
   "nbconvert_exporter": "python",
   "pygments_lexer": "ipython3",
   "version": "3.12.7"
  }
 },
 "nbformat": 4,
 "nbformat_minor": 2
}
