{
 "cells": [
  {
   "cell_type": "markdown",
   "metadata": {},
   "source": [
    "# 1:Verificar si un número es positivo, negativo o cero\n",
    "Descripción: Dado un número, verifica si es positivo, negativo o cero."
   ]
  },
  {
   "cell_type": "code",
   "execution_count": 6,
   "metadata": {},
   "outputs": [
    {
     "name": "stdout",
     "output_type": "stream",
     "text": [
      "positivo\n"
     ]
    }
   ],
   "source": [
    "num = 2\n",
    "if num > 0:\n",
    "    print (\"positivo\")\n",
    "elif num < 0:\n",
    "    print (\"negativo\")\n",
    "else: print( \"cero\")"
   ]
  },
  {
   "cell_type": "markdown",
   "metadata": {},
   "source": [
    "# 2: Verificar si un número es par o impar\n",
    "Descripción: Dado un número, verifica si es par o impar"
   ]
  },
  {
   "cell_type": "code",
   "execution_count": 18,
   "metadata": {},
   "outputs": [
    {
     "name": "stdout",
     "output_type": "stream",
     "text": [
      "es impar\n"
     ]
    }
   ],
   "source": [
    "numero = 17\n",
    "if numero % 2 == 0 :\n",
    "    print( \"numero es par.\")\n",
    "else: print (\"es impar\")\n",
    "\n",
    " "
   ]
  },
  {
   "cell_type": "markdown",
   "metadata": {},
   "source": [
    "# 3: Verificar si un estudiante aprobó o suspendió un examen\n",
    "Descripción: Dada la calificación de un estudiante en un examen, verifica si aprobó o suspendió (si la calificación es mayor o igual a 60 se considera aprobado)."
   ]
  },
  {
   "cell_type": "code",
   "execution_count": 20,
   "metadata": {},
   "outputs": [
    {
     "name": "stdout",
     "output_type": "stream",
     "text": [
      "suspenso\n"
     ]
    }
   ],
   "source": [
    "nota = 40\n",
    "if nota >= 60:\n",
    "    print(\"aprobado\")\n",
    "else: print (\"suspenso\")\n"
   ]
  },
  {
   "cell_type": "markdown",
   "metadata": {},
   "source": [
    "# 4: Calcular el máximo entre dos números\n",
    "Descripción: Dados dos números, encuentra el máximo entre ellos."
   ]
  },
  {
   "cell_type": "code",
   "execution_count": 21,
   "metadata": {},
   "outputs": [
    {
     "name": "stdout",
     "output_type": "stream",
     "text": [
      "var2\n"
     ]
    }
   ],
   "source": [
    "var1 = 5\n",
    "var2 = 9\n",
    "\n",
    "if var1 > var2:\n",
    "    print (\"var1\")\n",
    "else: print(\"var2\")"
   ]
  },
  {
   "cell_type": "markdown",
   "metadata": {},
   "source": [
    "# 5: Verificar si una letra es una vocal o una consonante\n",
    "Descripción: Dada una letra, verifica si es una vocal o una consonante."
   ]
  },
  {
   "cell_type": "code",
   "execution_count": 27,
   "metadata": {},
   "outputs": [
    {
     "name": "stdout",
     "output_type": "stream",
     "text": [
      "vocal\n"
     ]
    }
   ],
   "source": [
    "vocales = [\"a\", \"e\", \"i\", \"o\", \"u\"]\n",
    "letra = \"e\"\n",
    "\n",
    "if letra in vocales:\n",
    "    print (\"vocal\")\n",
    "else: print (\"consonante\")\n"
   ]
  },
  {
   "cell_type": "code",
   "execution_count": 38,
   "metadata": {},
   "outputs": [
    {
     "name": "stdout",
     "output_type": "stream",
     "text": [
      "consonante\n"
     ]
    }
   ],
   "source": [
    "vocales = [\"a\", \"e\", \"i\", \"o\", \"u\"]\n",
    "letra = \"e\"\n",
    "\n",
    "if \"l\" in vocales:\n",
    "    print (\"vocal\")\n",
    "else: \n",
    "    print (\"consonante\")"
   ]
  },
  {
   "cell_type": "markdown",
   "metadata": {},
   "source": [
    "# 6: Calcular el descuento en una compra según el monto total\n",
    "Descripción: Dado el monto total de una compra, calcula el descuento aplicado según las siguientes condiciones: si el monto es mayor o igual a $100, aplica un descuento del 10%; de lo contrario, no aplica ningún descuento."
   ]
  },
  {
   "cell_type": "code",
   "execution_count": 1,
   "metadata": {},
   "outputs": [
    {
     "name": "stdout",
     "output_type": "stream",
     "text": [
      "11.0\n"
     ]
    }
   ],
   "source": [
    "monto = 110\n",
    "\n",
    "if monto >= 100:\n",
    "    descuento = monto * 0.10\n",
    "    print (descuento)\n",
    "\n",
    "else: \n",
    "    print(\"no aplica descuento\")"
   ]
  },
  {
   "cell_type": "code",
   "execution_count": 48,
   "metadata": {},
   "outputs": [
    {
     "name": "stdout",
     "output_type": "stream",
     "text": [
      "25\n"
     ]
    }
   ],
   "source": [
    "monto = 25\n",
    "\n",
    "if monto >= 100:\n",
    "    descuento = monto * 0.10\n",
    "    print (monto - descuento)\n",
    "\n",
    "else: \n",
    "    print(monto)"
   ]
  },
  {
   "cell_type": "markdown",
   "metadata": {},
   "source": [
    "7: Verificar si un año es bisiesto o no\n",
    "Descripción: Dado un año, verifica si es bisiesto o no (un año es bisiesto si es divisible entre 4, excepto aquellos divisibles entre 100 pero no entre 400)."
   ]
  },
  {
   "cell_type": "code",
   "execution_count": 49,
   "metadata": {},
   "outputs": [
    {
     "ename": "SyntaxError",
     "evalue": "expected ':' (3485986963.py, line 3)",
     "output_type": "error",
     "traceback": [
      "\u001b[0;36m  Cell \u001b[0;32mIn[49], line 3\u001b[0;36m\u001b[0m\n\u001b[0;31m    if año %4 ==0 and año %100 !=0\u001b[0m\n\u001b[0m                                  ^\u001b[0m\n\u001b[0;31mSyntaxError\u001b[0m\u001b[0;31m:\u001b[0m expected ':'\n"
     ]
    }
   ],
   "source": [
    "año = 2025\n",
    "\n",
    "if año %4 ==0 and año %100 !=0\n"
   ]
  },
  {
   "cell_type": "markdown",
   "metadata": {},
   "source": [
    "# 8: Asignar una categoría a una edad\n",
    "Descripción: Dada una edad, asigna una categoría según las siguientes condiciones: si la edad es menor de 18, la categoría es \"Menor de edad\"; si la edad está entre 18 y 64 (incluyendo ambos), la categoría es \"Adulto\"; de lo contrario, la categoría es \"Adulto mayor\"."
   ]
  },
  {
   "cell_type": "code",
   "execution_count": 50,
   "metadata": {},
   "outputs": [
    {
     "name": "stdout",
     "output_type": "stream",
     "text": [
      "Adulto\n"
     ]
    }
   ],
   "source": [
    "edad = 25\n",
    "\n",
    "if edad < 18:\n",
    "    print (\"menor de edad\")\n",
    "elif  18<= edad <= 64:\n",
    "    print (\"Adulto\")\n",
    "else:\n",
    "    print (\"Adulto mayor\")"
   ]
  },
  {
   "cell_type": "code",
   "execution_count": 51,
   "metadata": {},
   "outputs": [
    {
     "name": "stdout",
     "output_type": "stream",
     "text": [
      "Adulto\n"
     ]
    }
   ],
   "source": [
    "edad = 25\n",
    "\n",
    "if edad < 18:\n",
    "    print (\"menor de edad\")\n",
    "elif  18<= edad <= 64:\n",
    "    print (\"Adulto\")\n",
    "elif edad >=65:\n",
    "    print(\"adulto mayor\")"
   ]
  },
  {
   "cell_type": "markdown",
   "metadata": {},
   "source": [
    "9: Verificar si tres números forman un triángulo rectángulo\n",
    "Descripción: Dados tres números, verifica si forman un triángulo rectángulo (si se cumple el teorema de Pitágoras)."
   ]
  },
  {
   "cell_type": "code",
   "execution_count": null,
   "metadata": {},
   "outputs": [],
   "source": [
    "Lado1 = 5\n",
    "Lado2 = 9\n",
    "lado3 = 8\n"
   ]
  }
 ],
 "metadata": {
  "kernelspec": {
   "display_name": "base",
   "language": "python",
   "name": "python3"
  },
  "language_info": {
   "codemirror_mode": {
    "name": "ipython",
    "version": 3
   },
   "file_extension": ".py",
   "mimetype": "text/x-python",
   "name": "python",
   "nbconvert_exporter": "python",
   "pygments_lexer": "ipython3",
   "version": "3.12.7"
  }
 },
 "nbformat": 4,
 "nbformat_minor": 2
}
